{
  "nbformat": 4,
  "nbformat_minor": 0,
  "metadata": {
    "colab": {
      "provenance": [],
      "authorship_tag": "ABX9TyMdI+7JHPg8Ud5jUahsRaUD",
      "include_colab_link": true
    },
    "kernelspec": {
      "name": "python3",
      "display_name": "Python 3"
    },
    "language_info": {
      "name": "python"
    }
  },
  "cells": [
    {
      "cell_type": "markdown",
      "metadata": {
        "id": "view-in-github",
        "colab_type": "text"
      },
      "source": [
        "<a href=\"https://colab.research.google.com/github/elainexavier/Explorando_Dados/blob/main/Manipula%C3%A7%C3%A3o_de_Strings.ipynb\" target=\"_parent\"><img src=\"https://colab.research.google.com/assets/colab-badge.svg\" alt=\"Open In Colab\"/></a>"
      ]
    },
    {
      "cell_type": "code",
      "execution_count": 1,
      "metadata": {
        "colab": {
          "base_uri": "https://localhost:8080/"
        },
        "id": "PoPQFxscu8TQ",
        "outputId": "90d397aa-0931-4307-96da-2d88c3b4307d"
      },
      "outputs": [
        {
          "output_type": "stream",
          "name": "stdout",
          "text": [
            "HELLO\n"
          ]
        }
      ],
      "source": [
        "#str.upper(): Converte todos os caracteres da string para maiúsculas.\n",
        "texto = \"hello\"\n",
        "print(texto.upper())  # Saída: \"HELLO\"\n"
      ]
    },
    {
      "cell_type": "code",
      "source": [
        "#str.lower(): Converte todos os caracteres da string para minúsculas.\n",
        "texto = \"HELLO\"\n",
        "print(texto.lower())  # Saída: \"hello\"\n"
      ],
      "metadata": {
        "colab": {
          "base_uri": "https://localhost:8080/"
        },
        "id": "EYkjulZaxigb",
        "outputId": "62b54623-5f2e-411a-aa20-95c95c1bd2f5"
      },
      "execution_count": 2,
      "outputs": [
        {
          "output_type": "stream",
          "name": "stdout",
          "text": [
            "hello\n"
          ]
        }
      ]
    },
    {
      "cell_type": "code",
      "source": [
        "#str.capitalize(): Converte o primeiro caractere para maiúscula e o resto para minúsculas.\n",
        "texto = \"hello world\"\n",
        "print(texto.capitalize())  # Saída: \"Hello world\"\n"
      ],
      "metadata": {
        "colab": {
          "base_uri": "https://localhost:8080/"
        },
        "id": "QOBqBMKUxnGj",
        "outputId": "0c962772-8d76-4f1f-e4ca-c95d7c7843e5"
      },
      "execution_count": 4,
      "outputs": [
        {
          "output_type": "stream",
          "name": "stdout",
          "text": [
            "Hello world\n"
          ]
        }
      ]
    },
    {
      "cell_type": "code",
      "source": [
        "#str.title(): Converte o primeiro caractere de cada palavra para maiúscula.\n",
        "texto = \"hello world\"\n",
        "print(texto.title())  # Saída: \"Hello World\"\n"
      ],
      "metadata": {
        "colab": {
          "base_uri": "https://localhost:8080/"
        },
        "id": "E-SQS8S-xvgk",
        "outputId": "e6d51330-4fc4-48d3-f543-e18e47c391bf"
      },
      "execution_count": 5,
      "outputs": [
        {
          "output_type": "stream",
          "name": "stdout",
          "text": [
            "Hello World\n"
          ]
        }
      ]
    },
    {
      "cell_type": "code",
      "source": [
        "# str.strip(): Remove espaços em branco no início e no fim da string.\n",
        "texto = \"   hello   \"\n",
        "print(texto.strip())  # Saída: \"hello\"\n"
      ],
      "metadata": {
        "colab": {
          "base_uri": "https://localhost:8080/"
        },
        "id": "426P4JtDx1Gy",
        "outputId": "de98bf6b-be5a-4a7e-8aae-b30c05fc8c9c"
      },
      "execution_count": 6,
      "outputs": [
        {
          "output_type": "stream",
          "name": "stdout",
          "text": [
            "hello\n"
          ]
        }
      ]
    },
    {
      "cell_type": "code",
      "source": [
        "#str.replace(old, new): Substitui todas as ocorrências de uma substring por outra.\n",
        "texto = \"hello world\"\n",
        "print(texto.replace(\"world\", \"Python\"))  # Saída: \"hello Python\"\n"
      ],
      "metadata": {
        "colab": {
          "base_uri": "https://localhost:8080/"
        },
        "id": "9OdroCn-x6iW",
        "outputId": "669a5353-9633-4b67-993b-2d4857833800"
      },
      "execution_count": 7,
      "outputs": [
        {
          "output_type": "stream",
          "name": "stdout",
          "text": [
            "hello Python\n"
          ]
        }
      ]
    },
    {
      "cell_type": "code",
      "source": [
        "#str.split(separator): Divide a string em uma lista com base no separador especificado (padrão é o espaço).\n",
        "texto = \"hello world\"\n",
        "print(texto.split())  # Saída: ['hello', 'world']\n"
      ],
      "metadata": {
        "colab": {
          "base_uri": "https://localhost:8080/"
        },
        "id": "LCiElW_cyC3p",
        "outputId": "a1e61715-e6d6-40d9-e76c-8e696024ef7c"
      },
      "execution_count": 8,
      "outputs": [
        {
          "output_type": "stream",
          "name": "stdout",
          "text": [
            "['hello', 'world']\n"
          ]
        }
      ]
    },
    {
      "cell_type": "code",
      "source": [
        "#str.join(iterable): Junta os elementos de um iterável (lista, tupla) em uma string, separando-os pelo valor especificado.\n",
        "lista = ['hello', 'world']\n",
        "print(\" \".join(lista))  # Saída: \"hello world\"\n"
      ],
      "metadata": {
        "colab": {
          "base_uri": "https://localhost:8080/"
        },
        "id": "mR85MEADyMK8",
        "outputId": "fabb9e4f-5bee-44f3-a643-77ec37d21bb7"
      },
      "execution_count": 9,
      "outputs": [
        {
          "output_type": "stream",
          "name": "stdout",
          "text": [
            "hello world\n"
          ]
        }
      ]
    },
    {
      "cell_type": "code",
      "source": [],
      "metadata": {
        "id": "u69p4BErzEua"
      },
      "execution_count": null,
      "outputs": []
    },
    {
      "cell_type": "markdown",
      "source": [
        "Verificação de Conteúdo"
      ],
      "metadata": {
        "id": "7xyr1KmezDJo"
      }
    },
    {
      "cell_type": "code",
      "source": [
        "# str.startswith(prefix): Verifica se a string começa com o prefixo especificado.\n",
        "texto = \"hello world\"\n",
        "print(texto.startswith(\"hello\"))  # Saída: True\n"
      ],
      "metadata": {
        "colab": {
          "base_uri": "https://localhost:8080/"
        },
        "id": "500EayHNyWNu",
        "outputId": "47a84857-d4c1-4dc8-d311-ce303a088a97"
      },
      "execution_count": 10,
      "outputs": [
        {
          "output_type": "stream",
          "name": "stdout",
          "text": [
            "True\n"
          ]
        }
      ]
    },
    {
      "cell_type": "code",
      "source": [
        "#str.endswith(suffix): Verifica se a string termina com o sufixo especificado.\n",
        "texto = \"hello world\"\n",
        "print(texto.endswith(\"world\"))  # Saída: True\n"
      ],
      "metadata": {
        "colab": {
          "base_uri": "https://localhost:8080/"
        },
        "id": "GQmBtSSpyfTC",
        "outputId": "72fac630-1bd2-4187-afd6-ef8c6fdaddf6"
      },
      "execution_count": 11,
      "outputs": [
        {
          "output_type": "stream",
          "name": "stdout",
          "text": [
            "True\n"
          ]
        }
      ]
    },
    {
      "cell_type": "code",
      "source": [
        "#str.isalpha(): Retorna True se todos os caracteres da string são letras e a string não estiver vazia.\n",
        "texto = \"hello\"\n",
        "print(texto.isalpha())  # Saída: True\n"
      ],
      "metadata": {
        "colab": {
          "base_uri": "https://localhost:8080/"
        },
        "id": "nETq2biwyk47",
        "outputId": "e4cba303-5687-4df5-d492-5890639e80dd"
      },
      "execution_count": 12,
      "outputs": [
        {
          "output_type": "stream",
          "name": "stdout",
          "text": [
            "True\n"
          ]
        }
      ]
    },
    {
      "cell_type": "code",
      "source": [
        "#str.isdigit(): Retorna True se todos os caracteres da string são dígitos.\n",
        "texto = \"12345\"\n",
        "print(texto.isdigit())  # Saída: True\n"
      ],
      "metadata": {
        "colab": {
          "base_uri": "https://localhost:8080/"
        },
        "id": "pCg-Ts2KyrXk",
        "outputId": "e5122012-3ad5-41f0-ed87-8e3b2b455991"
      },
      "execution_count": 13,
      "outputs": [
        {
          "output_type": "stream",
          "name": "stdout",
          "text": [
            "True\n"
          ]
        }
      ]
    },
    {
      "cell_type": "code",
      "source": [
        "#str.isalnum(): Retorna True se todos os caracteres da string são alfa-numéricos (letras ou números).\n",
        "texto = \"hello123\"\n",
        "print(texto.isalnum())  # Saída: True\n"
      ],
      "metadata": {
        "colab": {
          "base_uri": "https://localhost:8080/"
        },
        "id": "hejtAP6YyyS3",
        "outputId": "7519e5d1-1e6a-4c2b-bebd-39fea269a99c"
      },
      "execution_count": 14,
      "outputs": [
        {
          "output_type": "stream",
          "name": "stdout",
          "text": [
            "True\n"
          ]
        }
      ]
    },
    {
      "cell_type": "code",
      "source": [
        "#str.isspace(): Retorna True se todos os caracteres da string são espaços em branco.\n",
        "texto = \"   \"\n",
        "print(texto.isspace())  # Saída: True\n"
      ],
      "metadata": {
        "colab": {
          "base_uri": "https://localhost:8080/"
        },
        "id": "FeZQ-lTuy7PW",
        "outputId": "ab76c544-719e-4a4c-eac6-b82fff9f1675"
      },
      "execution_count": 15,
      "outputs": [
        {
          "output_type": "stream",
          "name": "stdout",
          "text": [
            "True\n"
          ]
        }
      ]
    },
    {
      "cell_type": "markdown",
      "source": [
        "Métodos de Formatação"
      ],
      "metadata": {
        "id": "4ZOHCWbNzF4_"
      }
    },
    {
      "cell_type": "code",
      "source": [
        "#str.center(width): Centraliza a string em um campo de tamanho especificado\n",
        "texto = \"hello\"\n",
        "print(texto.center(10))  # Saída: \"  hello   \"\n"
      ],
      "metadata": {
        "colab": {
          "base_uri": "https://localhost:8080/"
        },
        "id": "Lwi0GQlSzOzW",
        "outputId": "c4cb836c-ffe0-40c1-9d87-235b721e133d"
      },
      "execution_count": 16,
      "outputs": [
        {
          "output_type": "stream",
          "name": "stdout",
          "text": [
            "  hello   \n"
          ]
        }
      ]
    },
    {
      "cell_type": "code",
      "source": [
        "#str.zfill(width): Adiciona zeros à esquerda da string até atingir o tamanho especificado.\n",
        "texto = \"42\"\n",
        "print(texto.zfill(5))  # Saída: \"00042\"\n"
      ],
      "metadata": {
        "colab": {
          "base_uri": "https://localhost:8080/"
        },
        "id": "GjOH28qNzVnH",
        "outputId": "d7ceede8-53fa-4c83-9967-ba9af35fefd6"
      },
      "execution_count": 18,
      "outputs": [
        {
          "output_type": "stream",
          "name": "stdout",
          "text": [
            "00042\n"
          ]
        }
      ]
    },
    {
      "cell_type": "code",
      "source": [
        "#str.ljust(width) e str.rjust(width): Justificam a string à esquerda ou à direita em um campo de tamanho especificado.\n",
        "texto = \"hello\"\n",
        "print(texto.ljust(10))  # Saída: \"hello     \"\n",
        "print(texto.rjust(10))  # Saída: \"     hello\"\n"
      ],
      "metadata": {
        "colab": {
          "base_uri": "https://localhost:8080/"
        },
        "id": "HDAEZJ0tzYCz",
        "outputId": "58a63594-2047-4355-a6da-5f149149e959"
      },
      "execution_count": 19,
      "outputs": [
        {
          "output_type": "stream",
          "name": "stdout",
          "text": [
            "hello     \n",
            "     hello\n"
          ]
        }
      ]
    },
    {
      "cell_type": "code",
      "source": [
        "Texto= \"Elaine\"\n",
        "Texto=Texto.center(50,\"-\")\n",
        "[Texto,len(Texto)]"
      ],
      "metadata": {
        "colab": {
          "base_uri": "https://localhost:8080/"
        },
        "id": "nAo9tosX0U1k",
        "outputId": "f890ac03-5154-49cb-fbbf-d172b3a85885"
      },
      "execution_count": 20,
      "outputs": [
        {
          "output_type": "execute_result",
          "data": {
            "text/plain": [
              "['----------------------Elaine----------------------', 50]"
            ]
          },
          "metadata": {},
          "execution_count": 20
        }
      ]
    },
    {
      "cell_type": "code",
      "source": [
        "\n",
        "Texto= \"Elaine\"\n",
        "Texto=Texto.center(6,\"-\")\n",
        "[Texto,len(Texto)]\n"
      ],
      "metadata": {
        "colab": {
          "base_uri": "https://localhost:8080/"
        },
        "id": "R-BHqG3O0kS8",
        "outputId": "8a476ff4-503b-40f0-f76a-818dc2bebb22"
      },
      "execution_count": 21,
      "outputs": [
        {
          "output_type": "execute_result",
          "data": {
            "text/plain": [
              "['Elaine', 6]"
            ]
          },
          "metadata": {},
          "execution_count": 21
        }
      ]
    },
    {
      "cell_type": "code",
      "source": [
        "#Ver se um texto termina com um caracter\n",
        "frase = 'Jesus Vive'\n",
        "frase.endswith('e')"
      ],
      "metadata": {
        "colab": {
          "base_uri": "https://localhost:8080/"
        },
        "id": "b1vzEI990vmX",
        "outputId": "c1f72934-91f3-45d9-9a2b-36f7a6df42f7"
      },
      "execution_count": 23,
      "outputs": [
        {
          "output_type": "execute_result",
          "data": {
            "text/plain": [
              "True"
            ]
          },
          "metadata": {},
          "execution_count": 23
        }
      ]
    },
    {
      "cell_type": "code",
      "source": [
        "#Tirar espaço no texto\n",
        "frase = '        Elaine Xavier'\n",
        "[frase.rstrip(), frase.lstrip(), frase.rstrip()]"
      ],
      "metadata": {
        "colab": {
          "base_uri": "https://localhost:8080/"
        },
        "id": "ijE63Cat08IB",
        "outputId": "3e377e21-e67c-4507-ab73-21824c2c0d2c"
      },
      "execution_count": 24,
      "outputs": [
        {
          "output_type": "execute_result",
          "data": {
            "text/plain": [
              "['        Elaine Xavier', 'Elaine Xavier', '        Elaine Xavier']"
            ]
          },
          "metadata": {},
          "execution_count": 24
        }
      ]
    },
    {
      "cell_type": "code",
      "source": [
        "#Sequencia\n",
        "professor= 'ELAINE XAVIER'\n",
        "\n",
        "#Verificando posição\n",
        "professor[0:3]"
      ],
      "metadata": {
        "colab": {
          "base_uri": "https://localhost:8080/",
          "height": 35
        },
        "id": "Gc8clpk-1iAS",
        "outputId": "56f33d0c-9377-4b79-d76b-60527008c99e"
      },
      "execution_count": 26,
      "outputs": [
        {
          "output_type": "execute_result",
          "data": {
            "text/plain": [
              "'ELA'"
            ],
            "application/vnd.google.colaboratory.intrinsic+json": {
              "type": "string"
            }
          },
          "metadata": {},
          "execution_count": 26
        }
      ]
    },
    {
      "cell_type": "code",
      "source": [
        "professor= 'ELAINE XAVIER'\n",
        "\n",
        "#Verificando posição\n",
        "professor[:3]"
      ],
      "metadata": {
        "colab": {
          "base_uri": "https://localhost:8080/",
          "height": 35
        },
        "id": "XThEatQj2FFh",
        "outputId": "37dace6d-d7f4-498a-9322-59e79bdd61b8"
      },
      "execution_count": 27,
      "outputs": [
        {
          "output_type": "execute_result",
          "data": {
            "text/plain": [
              "'ELA'"
            ],
            "application/vnd.google.colaboratory.intrinsic+json": {
              "type": "string"
            }
          },
          "metadata": {},
          "execution_count": 27
        }
      ]
    },
    {
      "cell_type": "code",
      "source": [
        "professor= 'ELAINE XAVIER'\n",
        "\n",
        "#Verificando posição\n",
        "professor[7:]"
      ],
      "metadata": {
        "colab": {
          "base_uri": "https://localhost:8080/",
          "height": 35
        },
        "id": "R-gE9DOV2RkP",
        "outputId": "a24ab2f3-6d88-4c69-87bb-4ba2eef3edfc"
      },
      "execution_count": 30,
      "outputs": [
        {
          "output_type": "execute_result",
          "data": {
            "text/plain": [
              "'XAVIER'"
            ],
            "application/vnd.google.colaboratory.intrinsic+json": {
              "type": "string"
            }
          },
          "metadata": {},
          "execution_count": 30
        }
      ]
    },
    {
      "cell_type": "code",
      "source": [
        "professor= 'ELAINE XAVIER'\n",
        "\n",
        "#Verificando posição\n",
        "professor[-7:]"
      ],
      "metadata": {
        "colab": {
          "base_uri": "https://localhost:8080/",
          "height": 35
        },
        "id": "Xg6VGP6o2XKF",
        "outputId": "4d3707bb-3ffe-4948-ea3b-dbdf1ed74d08"
      },
      "execution_count": 31,
      "outputs": [
        {
          "output_type": "execute_result",
          "data": {
            "text/plain": [
              "' XAVIER'"
            ],
            "application/vnd.google.colaboratory.intrinsic+json": {
              "type": "string"
            }
          },
          "metadata": {},
          "execution_count": 31
        }
      ]
    },
    {
      "cell_type": "code",
      "source": [
        "professor= 'ELAINE XAVIER'\n",
        "\n",
        "#Verificando posição\n",
        "professor[-7:-2]"
      ],
      "metadata": {
        "colab": {
          "base_uri": "https://localhost:8080/",
          "height": 35
        },
        "id": "7PnarKEO2fAf",
        "outputId": "e14efabc-4838-402f-818d-2ef35664bc32"
      },
      "execution_count": 32,
      "outputs": [
        {
          "output_type": "execute_result",
          "data": {
            "text/plain": [
              "' XAVI'"
            ],
            "application/vnd.google.colaboratory.intrinsic+json": {
              "type": "string"
            }
          },
          "metadata": {},
          "execution_count": 32
        }
      ]
    },
    {
      "cell_type": "code",
      "source": [
        "professor= 'ELAINE XAVIER'\n",
        "\n",
        "#Verificando posição\n",
        "professor[::2]"
      ],
      "metadata": {
        "colab": {
          "base_uri": "https://localhost:8080/",
          "height": 35
        },
        "id": "s7YITHK22qgb",
        "outputId": "b18049a9-f0be-4d54-ebb6-509139fb8008"
      },
      "execution_count": 33,
      "outputs": [
        {
          "output_type": "execute_result",
          "data": {
            "text/plain": [
              "'EAN AIR'"
            ],
            "application/vnd.google.colaboratory.intrinsic+json": {
              "type": "string"
            }
          },
          "metadata": {},
          "execution_count": 33
        }
      ]
    },
    {
      "cell_type": "code",
      "source": [],
      "metadata": {
        "id": "uAtM5n2I2tjf"
      },
      "execution_count": null,
      "outputs": []
    },
    {
      "cell_type": "code",
      "source": [],
      "metadata": {
        "id": "cjNVxqrE2xr1"
      },
      "execution_count": null,
      "outputs": []
    }
  ]
}