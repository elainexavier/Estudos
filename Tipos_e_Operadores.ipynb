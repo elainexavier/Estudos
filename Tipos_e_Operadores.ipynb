{
  "nbformat": 4,
  "nbformat_minor": 0,
  "metadata": {
    "colab": {
      "provenance": [],
      "authorship_tag": "ABX9TyMabEqxSTjC9vMEmCsxBk+v",
      "include_colab_link": true
    },
    "kernelspec": {
      "name": "python3",
      "display_name": "Python 3"
    },
    "language_info": {
      "name": "python"
    }
  },
  "cells": [
    {
      "cell_type": "markdown",
      "metadata": {
        "id": "view-in-github",
        "colab_type": "text"
      },
      "source": [
        "<a href=\"https://colab.research.google.com/github/elainexavier/Explorando_Dados/blob/main/Tipos_e_Operadores.ipynb\" target=\"_parent\"><img src=\"https://colab.research.google.com/assets/colab-badge.svg\" alt=\"Open In Colab\"/></a>"
      ]
    },
    {
      "cell_type": "markdown",
      "source": [
        "**Tipos de Dados:**\n",
        "\n",
        "Os tipos de dados primários incluem:\n",
        "\n",
        "**Inteiros (int)**: Números inteiros.\n",
        "\n",
        "**Ponto flutuante (float)**: Números decimais.\n",
        "\n",
        "**Strings (str)**: Texto, delimitado por aspas simples ou duplas.\n",
        "\n",
        "**Booleanos (bool)**: Verdadeiro (True) ou Falso (False)."
      ],
      "metadata": {
        "id": "Lr4dxOnuY56d"
      }
    },
    {
      "cell_type": "markdown",
      "source": [
        "**Operadores:**\n",
        "\n",
        "Python suporta operadores aritméticos\n",
        "(+, -, *, /), comparação (==, !=, <, >), e lógicos (and, or, not)."
      ],
      "metadata": {
        "id": "WUB0-qpSZPRb"
      }
    },
    {
      "cell_type": "markdown",
      "source": [
        "**Estruturas de Controle:**\n",
        "\n",
        "Condicionais (if, elif, else) para executar código com base em condições.\n",
        "Loops (for, while) para repetir ações."
      ],
      "metadata": {
        "id": "SnDr3H9NZaw2"
      }
    },
    {
      "cell_type": "code",
      "source": [
        "#Visualizar  Tipo\n",
        "type('Elaine\"')"
      ],
      "metadata": {
        "colab": {
          "base_uri": "https://localhost:8080/"
        },
        "id": "P1OL35HTvAwk",
        "outputId": "21f55125-2cae-44ce-b452-2a6274c5787b"
      },
      "execution_count": 45,
      "outputs": [
        {
          "output_type": "execute_result",
          "data": {
            "text/plain": [
              "str"
            ]
          },
          "metadata": {},
          "execution_count": 45
        }
      ]
    },
    {
      "cell_type": "code",
      "source": [
        "#Declaração de Variáveis\n",
        "nome = \"João\"\n",
        "idade = 30\n",
        "\n",
        "nome\n"
      ],
      "metadata": {
        "colab": {
          "base_uri": "https://localhost:8080/",
          "height": 35
        },
        "id": "-JhpkKXwahkz",
        "outputId": "303efeea-bf8b-47af-89a2-e69f1aeb0024"
      },
      "execution_count": 36,
      "outputs": [
        {
          "output_type": "execute_result",
          "data": {
            "text/plain": [
              "'João'"
            ],
            "application/vnd.google.colaboratory.intrinsic+json": {
              "type": "string"
            }
          },
          "metadata": {},
          "execution_count": 36
        }
      ]
    },
    {
      "cell_type": "code",
      "source": [
        "idades = [15, 16, 17, 18, 19, 20]\n",
        "for idade in idades:\n",
        "    if idade >= 18:\n",
        "        print(\"Adulto\")\n",
        "    else:\n",
        "        print(\"Menor de idade\")\n"
      ],
      "metadata": {
        "colab": {
          "base_uri": "https://localhost:8080/"
        },
        "id": "utmDU0QlZliR",
        "outputId": "de2d7e58-52bd-44d9-f33a-5c31e13bf89c"
      },
      "execution_count": 31,
      "outputs": [
        {
          "output_type": "stream",
          "name": "stdout",
          "text": [
            "Menor de idade\n",
            "Menor de idade\n",
            "Menor de idade\n",
            "Adulto\n",
            "Adulto\n",
            "Adulto\n"
          ]
        }
      ]
    },
    {
      "cell_type": "markdown",
      "source": [
        "**Variáveis e Cálculos Simples**"
      ],
      "metadata": {
        "id": "ORlJ4RWHO5cz"
      }
    },
    {
      "cell_type": "code",
      "execution_count": 2,
      "metadata": {
        "id": "-b6ZFV56Ooe0"
      },
      "outputs": [],
      "source": [
        "#se lê :a receber ..\n",
        "a = 10.5\n",
        "b= 3"
      ]
    },
    {
      "cell_type": "code",
      "source": [
        "#Adição\n",
        "a+b"
      ],
      "metadata": {
        "colab": {
          "base_uri": "https://localhost:8080/"
        },
        "id": "-DCiHmZTPK6_",
        "outputId": "54dbc564-f7c7-48e2-80a8-fc501cf57060"
      },
      "execution_count": 3,
      "outputs": [
        {
          "output_type": "execute_result",
          "data": {
            "text/plain": [
              "13.5"
            ]
          },
          "metadata": {},
          "execution_count": 3
        }
      ]
    },
    {
      "cell_type": "code",
      "source": [
        "#Subtração\n",
        "a-b"
      ],
      "metadata": {
        "colab": {
          "base_uri": "https://localhost:8080/"
        },
        "id": "m7DOTDuiPW-d",
        "outputId": "60906ba4-551a-40cb-ed99-fd1e51c94ff6"
      },
      "execution_count": 4,
      "outputs": [
        {
          "output_type": "execute_result",
          "data": {
            "text/plain": [
              "7.5"
            ]
          },
          "metadata": {},
          "execution_count": 4
        }
      ]
    },
    {
      "cell_type": "code",
      "source": [
        "#Multiplicação\n",
        "a*b"
      ],
      "metadata": {
        "colab": {
          "base_uri": "https://localhost:8080/"
        },
        "id": "bqiu5o0_PeTh",
        "outputId": "89763e02-089b-4fbb-e533-3fc8dd671c41"
      },
      "execution_count": 5,
      "outputs": [
        {
          "output_type": "execute_result",
          "data": {
            "text/plain": [
              "31.5"
            ]
          },
          "metadata": {},
          "execution_count": 5
        }
      ]
    },
    {
      "cell_type": "code",
      "source": [
        "#Divisão\n",
        "a/b"
      ],
      "metadata": {
        "colab": {
          "base_uri": "https://localhost:8080/"
        },
        "id": "GN28ulo8Ph89",
        "outputId": "00aa666c-cb4f-428c-9483-68ab813f8894"
      },
      "execution_count": 6,
      "outputs": [
        {
          "output_type": "execute_result",
          "data": {
            "text/plain": [
              "3.5"
            ]
          },
          "metadata": {},
          "execution_count": 6
        }
      ]
    },
    {
      "cell_type": "code",
      "source": [
        "#Divisão Inteira (Desconsidera o Resto)\n",
        "a//b"
      ],
      "metadata": {
        "colab": {
          "base_uri": "https://localhost:8080/"
        },
        "id": "WCJ_POfVPsut",
        "outputId": "32805573-2c60-4302-e488-467d2e44d25f"
      },
      "execution_count": 9,
      "outputs": [
        {
          "output_type": "execute_result",
          "data": {
            "text/plain": [
              "3.0"
            ]
          },
          "metadata": {},
          "execution_count": 9
        }
      ]
    },
    {
      "cell_type": "code",
      "source": [
        "#Potenciação\n",
        "a**b"
      ],
      "metadata": {
        "colab": {
          "base_uri": "https://localhost:8080/"
        },
        "id": "ZyxsxJY2Plkc",
        "outputId": "ce46c6d7-33fc-4ddd-9950-06ef7877bc58"
      },
      "execution_count": 7,
      "outputs": [
        {
          "output_type": "execute_result",
          "data": {
            "text/plain": [
              "1157.625"
            ]
          },
          "metadata": {},
          "execution_count": 7
        }
      ]
    },
    {
      "cell_type": "code",
      "source": [
        "#Tipos de Dados\n",
        "a= 1.6\n",
        "b= 1.4\n",
        "c = a+b\n",
        "c"
      ],
      "metadata": {
        "colab": {
          "base_uri": "https://localhost:8080/"
        },
        "id": "b9qHKUJVPyzu",
        "outputId": "0cdc7e80-6852-4e12-cb30-e647a1b90b76"
      },
      "execution_count": 11,
      "outputs": [
        {
          "output_type": "execute_result",
          "data": {
            "text/plain": [
              "3.0"
            ]
          },
          "metadata": {},
          "execution_count": 11
        }
      ]
    },
    {
      "cell_type": "code",
      "source": [
        "a= 1.6\n",
        "b= 1.4\n",
        "c = int(a)+int(b)\n",
        "c"
      ],
      "metadata": {
        "colab": {
          "base_uri": "https://localhost:8080/"
        },
        "id": "edtEJmvGQIU8",
        "outputId": "d6df40e9-86bd-49c6-f864-d21f818e903c"
      },
      "execution_count": 13,
      "outputs": [
        {
          "output_type": "execute_result",
          "data": {
            "text/plain": [
              "2"
            ]
          },
          "metadata": {},
          "execution_count": 13
        }
      ]
    },
    {
      "cell_type": "markdown",
      "source": [
        "**Arredondamento:**\n",
        "\n",
        "**Int:** Retira a casa decimal e deixa somente o valor inteiro\n",
        "\n",
        "**math.ceil()**: Arredonda sempre para cima.\n",
        "\n",
        "**math.floor()**: Arredonda sempre para baixo.\n",
        "\n",
        "**round()**: Arredonda para o inteiro mais próximo, e em caso de empate (como 2.5), arredonda para o número par mais próximo.\n",
        "\n"
      ],
      "metadata": {
        "id": "rbkc0epHUhHO"
      }
    },
    {
      "cell_type": "code",
      "source": [
        "#Int: Retira a casa decimal e deixa somente o valor inteiro\n",
        "a= 1.9\n",
        "b= 1.9\n",
        "c = a+b\n",
        "int(c)"
      ],
      "metadata": {
        "colab": {
          "base_uri": "https://localhost:8080/"
        },
        "id": "43x_rhRzQfgd",
        "outputId": "537aa656-09fc-4ede-eff1-2e136e232922"
      },
      "execution_count": 19,
      "outputs": [
        {
          "output_type": "execute_result",
          "data": {
            "text/plain": [
              "3"
            ]
          },
          "metadata": {},
          "execution_count": 19
        }
      ]
    },
    {
      "cell_type": "code",
      "source": [
        "#math.ceil(): Arredonda sempre para cima.\n",
        "import math\n",
        "a= 1.9\n",
        "b= 1.9\n",
        "c = a+b\n",
        "math.ceil(c)"
      ],
      "metadata": {
        "colab": {
          "base_uri": "https://localhost:8080/"
        },
        "id": "am5QmARKQlcc",
        "outputId": "b055e9e1-1fba-4ab9-cb8d-5da96777e68c"
      },
      "execution_count": 20,
      "outputs": [
        {
          "output_type": "execute_result",
          "data": {
            "text/plain": [
              "4"
            ]
          },
          "metadata": {},
          "execution_count": 20
        }
      ]
    },
    {
      "cell_type": "code",
      "source": [
        "#math.floor(): Arredonda sempre para baixo.\n",
        "import math\n",
        "a= 1.9\n",
        "b= 1.9\n",
        "c = a+b\n",
        "math.floor(c)"
      ],
      "metadata": {
        "colab": {
          "base_uri": "https://localhost:8080/"
        },
        "id": "fJlbpPbOQ_6b",
        "outputId": "07453b2d-a38c-47f6-c5c1-dc9ed6cd6b75"
      },
      "execution_count": 17,
      "outputs": [
        {
          "output_type": "execute_result",
          "data": {
            "text/plain": [
              "3"
            ]
          },
          "metadata": {},
          "execution_count": 17
        }
      ]
    },
    {
      "cell_type": "code",
      "source": [
        "#round(): Arredonda para o inteiro mais próximo, e em caso de empate (como 2.5), arredonda para o número par mais próximo.\n",
        "import math\n",
        "a= 1.9\n",
        "b= 1.9\n",
        "c = a+b\n",
        "round(c)"
      ],
      "metadata": {
        "colab": {
          "base_uri": "https://localhost:8080/"
        },
        "id": "ehiKbq82VFgk",
        "outputId": "507c9331-35d8-4b25-de1d-d41bf409bb98"
      },
      "execution_count": 21,
      "outputs": [
        {
          "output_type": "execute_result",
          "data": {
            "text/plain": [
              "4"
            ]
          },
          "metadata": {},
          "execution_count": 21
        }
      ]
    },
    {
      "cell_type": "code",
      "source": [],
      "metadata": {
        "id": "VnxhBfP0WK9K"
      },
      "execution_count": null,
      "outputs": []
    },
    {
      "cell_type": "markdown",
      "source": [
        "Ordem de precedência. Se não souber a precedência deve-se usar o parentese ()\n",
        "\n",
        "PEMDAS\n",
        "\n",
        "A ordem de precedência em expressões matemáticas no Python segue a mesma lógica que usamos na matemática, chamada de PEMDAS, que é uma sigla para Parênteses, Expoentes, Multiplicação e Divisão (da esquerda para a direita), Adição e Subtração (da esquerda para a direita)\n",
        "\n",
        "Ordem de Precedência dos Operadores em Python\n",
        "\n",
        "**Parênteses (()):**\n",
        "\n",
        "Os parênteses têm a maior precedência e são avaliados primeiro. Você pode usá-los para alterar a ordem de operações ou para deixar claro qual parte da expressão deve ser avaliada primeiro.\n",
        "\n",
        "**Expoentes (**):\n",
        "\n",
        "Operações de potência são realizadas após os parênteses. Por exemplo, 2 ** 3 retorna 8.\n",
        "\n",
        "**Multiplicação (*)**, **Divisão (/)**, **Divisão Inteira (//)** **e Módulo (%):**\n",
        "\n",
        "Esses operadores têm a mesma precedência e são avaliados da esquerda para a direita.\n",
        "\n",
        "Se houver uma mistura de multiplicação e divisão, a ordem da esquerda para a direita é seguida.\n",
        "\n",
        "**Adição (+) e Subtração (-):**\n",
        "\n",
        "Operadores de adição e subtração também têm a mesma precedência e são avaliados após os operadores de multiplicação/divisão, da esquerda para a direita.\n",
        "\n",
        "**Resumindo**\n",
        "Parênteses alteram a ordem e têm prioridade máxima.\n",
        "\n",
        "Expoentes vêm em seguida.\n",
        "\n",
        "Multiplicação, divisão e módulo são avaliados da esquerda para a direita.\n",
        "\n",
        "Adição e subtração são as últimas, também avaliadas da esquerda para a direita."
      ],
      "metadata": {
        "id": "V_DFjOxCWvTz"
      }
    },
    {
      "cell_type": "code",
      "source": [
        "resultado = 2 + 3 * 4\n",
        "resultado\n",
        "# Multiplicação é feita primeiro: 3 * 4 = 12\n",
        "# Depois a adição: 2 + 12 = 14\n",
        "\n"
      ],
      "metadata": {
        "colab": {
          "base_uri": "https://localhost:8080/"
        },
        "id": "qy9dn4epVH8c",
        "outputId": "3fca2007-63ea-4ea2-b93f-e8b3ba394870"
      },
      "execution_count": 26,
      "outputs": [
        {
          "output_type": "execute_result",
          "data": {
            "text/plain": [
              "14"
            ]
          },
          "metadata": {},
          "execution_count": 26
        }
      ]
    },
    {
      "cell_type": "code",
      "source": [
        "resultado = (2 + 3) * 4\n",
        "resultado\n",
        "# Parênteses primeiro: 2 + 3 = 5\n",
        "# Multiplicação depois: 5 * 4 = 20\n"
      ],
      "metadata": {
        "colab": {
          "base_uri": "https://localhost:8080/"
        },
        "id": "h8HGrb6HW2-J",
        "outputId": "2c511fcd-d34d-4d3b-8959-0772bcdc6c6a"
      },
      "execution_count": 27,
      "outputs": [
        {
          "output_type": "execute_result",
          "data": {
            "text/plain": [
              "20"
            ]
          },
          "metadata": {},
          "execution_count": 27
        }
      ]
    },
    {
      "cell_type": "code",
      "source": [
        "resultado = 2 + 3 * 4 ** 2\n",
        "resultado\n",
        "# Expoente primeiro: 4 ** 2 = 16\n",
        "# Multiplicação depois: 3 * 16 = 48\n",
        "# Por último, adição: 2 + 48 = 50\n"
      ],
      "metadata": {
        "colab": {
          "base_uri": "https://localhost:8080/"
        },
        "id": "uWw3tzlJYTCz",
        "outputId": "13aa3c9b-3d71-4609-eeb7-0748be65e37e"
      },
      "execution_count": 28,
      "outputs": [
        {
          "output_type": "execute_result",
          "data": {
            "text/plain": [
              "50"
            ]
          },
          "metadata": {},
          "execution_count": 28
        }
      ]
    },
    {
      "cell_type": "code",
      "source": [
        "#Listas são coleções ordenadas de itens. São mutáveis e definidas com colchetes.\n",
        "#Dicionários são coleções não ordenadas de pares chave-valor, definidos com chaves.\n",
        "\n",
        "frutas = [\"maçã\", \"banana\", \"laranja\"]\n",
        "pessoa = {\"nome\": \"Maria\", \"idade\": 25}\n",
        "\n",
        "frutas\n"
      ],
      "metadata": {
        "colab": {
          "base_uri": "https://localhost:8080/"
        },
        "id": "II5PBHQ6jXOh",
        "outputId": "020dd0d4-588d-44b6-c552-9d25cb25f3e3"
      },
      "execution_count": 38,
      "outputs": [
        {
          "output_type": "execute_result",
          "data": {
            "text/plain": [
              "['maçã', 'banana', 'laranja']"
            ]
          },
          "metadata": {},
          "execution_count": 38
        }
      ]
    },
    {
      "cell_type": "code",
      "source": [
        "#Tratamento de Erros: Utilize try e except para lidar com erros e evitar que seu programa quebre.\n",
        "try:\n",
        "    resultado = 10 / 0\n",
        "except ZeroDivisionError:\n",
        "    print(\"Divisão por zero não é permitida.\")\n"
      ],
      "metadata": {
        "colab": {
          "base_uri": "https://localhost:8080/"
        },
        "id": "h8-doDXcj6dt",
        "outputId": "9f3128ca-2d1b-471e-ac19-8612278bfd17"
      },
      "execution_count": 40,
      "outputs": [
        {
          "output_type": "stream",
          "name": "stdout",
          "text": [
            "Divisão por zero não é permitida.\n"
          ]
        }
      ]
    }
  ]
}