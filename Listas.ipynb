{
  "nbformat": 4,
  "nbformat_minor": 0,
  "metadata": {
    "colab": {
      "provenance": [],
      "authorship_tag": "ABX9TyPLIA771ycOZ1XZSZubC8xq",
      "include_colab_link": true
    },
    "kernelspec": {
      "name": "python3",
      "display_name": "Python 3"
    },
    "language_info": {
      "name": "python"
    }
  },
  "cells": [
    {
      "cell_type": "markdown",
      "metadata": {
        "id": "view-in-github",
        "colab_type": "text"
      },
      "source": [
        "<a href=\"https://colab.research.google.com/github/elainexavier/Explorando_Dados/blob/main/Listas.ipynb\" target=\"_parent\"><img src=\"https://colab.research.google.com/assets/colab-badge.svg\" alt=\"Open In Colab\"/></a>"
      ]
    },
    {
      "cell_type": "code",
      "execution_count": 2,
      "metadata": {
        "colab": {
          "base_uri": "https://localhost:8080/"
        },
        "id": "_-XfXzimD1eX",
        "outputId": "2d255ffb-0aba-4b91-8f1e-c8fa0ebaab50"
      },
      "outputs": [
        {
          "output_type": "execute_result",
          "data": {
            "text/plain": [
              "['café', 'queijo', 'leite', 'laranja', 'limão', 'carne']"
            ]
          },
          "metadata": {},
          "execution_count": 2
        }
      ],
      "source": [
        "compra_supermercado = ['café','queijo','leite','laranja','limão','carne']\n",
        "compra_supermercado"
      ]
    },
    {
      "cell_type": "code",
      "source": [
        "#último item da lista\n",
        "compra_supermercado[-1]"
      ],
      "metadata": {
        "colab": {
          "base_uri": "https://localhost:8080/",
          "height": 36
        },
        "id": "UezT6uLPEWbL",
        "outputId": "e9d1a95a-8d9b-45d0-a0f5-5be183f122ae"
      },
      "execution_count": 3,
      "outputs": [
        {
          "output_type": "execute_result",
          "data": {
            "text/plain": [
              "'carne'"
            ],
            "application/vnd.google.colaboratory.intrinsic+json": {
              "type": "string"
            }
          },
          "metadata": {},
          "execution_count": 3
        }
      ]
    },
    {
      "cell_type": "code",
      "source": [
        "compra_supermercado[:3]"
      ],
      "metadata": {
        "colab": {
          "base_uri": "https://localhost:8080/"
        },
        "id": "uDFpk8cFEllx",
        "outputId": "ec1d61b7-9a35-4de7-9e6a-902bdbc88003"
      },
      "execution_count": 4,
      "outputs": [
        {
          "output_type": "execute_result",
          "data": {
            "text/plain": [
              "['café', 'queijo', 'leite']"
            ]
          },
          "metadata": {},
          "execution_count": 4
        }
      ]
    },
    {
      "cell_type": "code",
      "source": [
        "compra_supermercado[3:]"
      ],
      "metadata": {
        "colab": {
          "base_uri": "https://localhost:8080/"
        },
        "id": "Vk_pqT0uEr9O",
        "outputId": "34d97c9e-0bf9-4594-bf5f-4c1ea1d00a39"
      },
      "execution_count": 5,
      "outputs": [
        {
          "output_type": "execute_result",
          "data": {
            "text/plain": [
              "['laranja', 'limão', 'carne']"
            ]
          },
          "metadata": {},
          "execution_count": 5
        }
      ]
    },
    {
      "cell_type": "code",
      "source": [
        "len(compra_supermercado)"
      ],
      "metadata": {
        "colab": {
          "base_uri": "https://localhost:8080/"
        },
        "id": "EI6rapAQEwWN",
        "outputId": "468534b3-648e-44dc-f831-f62909c83407"
      },
      "execution_count": 6,
      "outputs": [
        {
          "output_type": "execute_result",
          "data": {
            "text/plain": [
              "6"
            ]
          },
          "metadata": {},
          "execution_count": 6
        }
      ]
    },
    {
      "cell_type": "code",
      "source": [
        "esqueci =['arroz','feijão']\n",
        "esqueci"
      ],
      "metadata": {
        "colab": {
          "base_uri": "https://localhost:8080/"
        },
        "id": "LHsatwCLE2_M",
        "outputId": "39db5359-5673-4a86-f197-ab713f230bcd"
      },
      "execution_count": 13,
      "outputs": [
        {
          "output_type": "execute_result",
          "data": {
            "text/plain": [
              "['arroz', 'feijão']"
            ]
          },
          "metadata": {},
          "execution_count": 13
        }
      ]
    },
    {
      "cell_type": "code",
      "source": [
        "# Definindo as listas\n",
        "compra_supermercado = ['leite', 'pão', 'ovos']\n",
        "esqueci = ['frutas', 'arroz']\n",
        "\n",
        "# Juntando as listas\n",
        "compra_supermercado = compra_supermercado + esqueci\n",
        "\n",
        "# Exibindo a lista final\n",
        "print(compra_supermercado)\n"
      ],
      "metadata": {
        "colab": {
          "base_uri": "https://localhost:8080/"
        },
        "id": "cREhyz4bFNif",
        "outputId": "66dbcb1b-e641-4ab7-9278-147a75b2fb68"
      },
      "execution_count": 12,
      "outputs": [
        {
          "output_type": "stream",
          "name": "stdout",
          "text": [
            "['leite', 'pão', 'ovos', 'frutas', 'arroz']\n"
          ]
        }
      ]
    },
    {
      "cell_type": "code",
      "source": [
        "#Append - Adicionar um item\n",
        "compra_supermercado.append('frauda')\n",
        "compra_supermercado\n"
      ],
      "metadata": {
        "colab": {
          "base_uri": "https://localhost:8080/"
        },
        "id": "gwL72_KZFW78",
        "outputId": "8b3e3508-f222-4450-87ea-879defb88641"
      },
      "execution_count": 14,
      "outputs": [
        {
          "output_type": "execute_result",
          "data": {
            "text/plain": [
              "['leite', 'pão', 'ovos', 'frutas', 'arroz', 'frauda']"
            ]
          },
          "metadata": {},
          "execution_count": 14
        }
      ]
    },
    {
      "cell_type": "code",
      "source": [
        "compra_supermercado = ['leite', 'pão', 'ovos']\n",
        "\n",
        "# Removendo o último item\n",
        "compra_supermercado.pop()\n",
        "\n",
        "# Exibindo a lista atualizada\n",
        "print(compra_supermercado)"
      ],
      "metadata": {
        "colab": {
          "base_uri": "https://localhost:8080/"
        },
        "id": "fpNt41rOG1f6",
        "outputId": "18c3a94a-0705-4478-d4e4-001810f5613f"
      },
      "execution_count": 23,
      "outputs": [
        {
          "output_type": "stream",
          "name": "stdout",
          "text": [
            "['leite', 'pão']\n"
          ]
        }
      ]
    },
    {
      "cell_type": "code",
      "source": [
        "#Remover um item específico\n",
        "compra_supermercado = ['leite', 'pão', 'ovos']\n",
        "compra_supermercado.remove('leite')\n",
        "compra_supermercado"
      ],
      "metadata": {
        "colab": {
          "base_uri": "https://localhost:8080/"
        },
        "id": "FHbekq0mHyU1",
        "outputId": "088f5399-0f43-451d-87a9-57b2bdfea418"
      },
      "execution_count": 28,
      "outputs": [
        {
          "output_type": "execute_result",
          "data": {
            "text/plain": [
              "['pão', 'ovos']"
            ]
          },
          "metadata": {},
          "execution_count": 28
        }
      ]
    },
    {
      "cell_type": "code",
      "source": [
        "#inserir um item em uma posição\n",
        "compra_supermercado.insert(2,'café')\n",
        "compra_supermercado"
      ],
      "metadata": {
        "colab": {
          "base_uri": "https://localhost:8080/"
        },
        "id": "UTzzY8DVHUzT",
        "outputId": "eaeb34ef-f126-4064-cbbb-4acd9b9bf374"
      },
      "execution_count": 34,
      "outputs": [
        {
          "output_type": "execute_result",
          "data": {
            "text/plain": [
              "['pão', 'ovos', 'café', 'café', 'café', 'sabonete', 'sabonete', 'sabonete']"
            ]
          },
          "metadata": {},
          "execution_count": 34
        }
      ]
    },
    {
      "cell_type": "code",
      "source": [
        "#Removendo Duplicatas\n",
        "compra_supermercado = ['pão', 'ovos', 'café', 'café', 'café', 'sabonete', 'sabonete', 'sabonete']\n",
        "\n",
        "# Convertendo para um conjunto e voltando para lista\n",
        "compra_supermercado = list(set(compra_supermercado))\n",
        "\n",
        "# Exibindo a lista sem duplicatas\n",
        "print(compra_supermercado)"
      ],
      "metadata": {
        "colab": {
          "base_uri": "https://localhost:8080/"
        },
        "id": "ZuBtwYc7IjZ0",
        "outputId": "2f799a77-4631-40f2-9167-6477ec956b51"
      },
      "execution_count": 39,
      "outputs": [
        {
          "output_type": "stream",
          "name": "stdout",
          "text": [
            "['café', 'sabonete', 'pão', 'ovos']\n"
          ]
        }
      ]
    },
    {
      "cell_type": "markdown",
      "source": [
        "##For"
      ],
      "metadata": {
        "id": "6zUPh73vL-Fz"
      }
    },
    {
      "cell_type": "code",
      "source": [
        "a= 0\n",
        "for elemento in compra_supermercado:\n",
        "  a += 1 # é o mesmo que a = a+1\n",
        "  print(a, '->', elemento)"
      ],
      "metadata": {
        "colab": {
          "base_uri": "https://localhost:8080/"
        },
        "id": "gv9NMqDNLalX",
        "outputId": "dc09f68c-d544-44f9-dcc6-37fd1be48bd0"
      },
      "execution_count": 46,
      "outputs": [
        {
          "output_type": "stream",
          "name": "stdout",
          "text": [
            "1 -> café\n",
            "2 -> sabonete\n",
            "3 -> pão\n",
            "4 -> ovos\n"
          ]
        }
      ]
    },
    {
      "cell_type": "code",
      "source": [
        "lista = [1, 2, 3]\n",
        "for elemento in lista:\n",
        "    print(elemento + 1 + 1 + 1)\n",
        "    print('alternar')\n"
      ],
      "metadata": {
        "colab": {
          "base_uri": "https://localhost:8080/"
        },
        "id": "Xdhxc4iHKBLQ",
        "outputId": "ba8f1c3d-dead-4af0-87ed-8a57a8629e1f"
      },
      "execution_count": 44,
      "outputs": [
        {
          "output_type": "stream",
          "name": "stdout",
          "text": [
            "4\n",
            "alternar\n",
            "5\n",
            "alternar\n",
            "6\n",
            "alternar\n"
          ]
        }
      ]
    },
    {
      "cell_type": "code",
      "source": [
        "\n",
        "for elemento in lista:\n",
        "  js= elemento *2\n",
        "  jsx = js/2\n",
        "  print('o resultado é',jsx)\n"
      ],
      "metadata": {
        "colab": {
          "base_uri": "https://localhost:8080/"
        },
        "id": "HZseLTviJmYK",
        "outputId": "ade24c26-bdc3-45eb-d69f-26db7a8bd301"
      },
      "execution_count": 45,
      "outputs": [
        {
          "output_type": "stream",
          "name": "stdout",
          "text": [
            "o resultado é 1.0\n",
            "o resultado é 2.0\n",
            "o resultado é 3.0\n"
          ]
        }
      ]
    },
    {
      "cell_type": "code",
      "source": [
        "lista_sortida = [1,'a',True,['a','b','c'], {'Elaine','Bruno'}, len]\n",
        "lista_sortida"
      ],
      "metadata": {
        "colab": {
          "base_uri": "https://localhost:8080/"
        },
        "id": "nbiJhYbsLFjF",
        "outputId": "51a6aa3c-c098-42fa-999f-6036131e3592"
      },
      "execution_count": 48,
      "outputs": [
        {
          "output_type": "execute_result",
          "data": {
            "text/plain": [
              "[1, 'a', True, ['a', 'b', 'c'], {'Bruno', 'Elaine'}, <function len(obj, /)>]"
            ]
          },
          "metadata": {},
          "execution_count": 48
        }
      ]
    },
    {
      "cell_type": "code",
      "source": [
        "len(lista_sortida)"
      ],
      "metadata": {
        "colab": {
          "base_uri": "https://localhost:8080/"
        },
        "id": "N8UThgH1cuf0",
        "outputId": "a460fd35-9252-42af-d2b7-8a7e2dba33df"
      },
      "execution_count": 49,
      "outputs": [
        {
          "output_type": "execute_result",
          "data": {
            "text/plain": [
              "6"
            ]
          },
          "metadata": {},
          "execution_count": 49
        }
      ]
    },
    {
      "cell_type": "code",
      "source": [
        "lista_sortida[3] # A lista começa a contar de 0 por isso esse resultado"
      ],
      "metadata": {
        "colab": {
          "base_uri": "https://localhost:8080/"
        },
        "id": "9LSSOyXLdoGT",
        "outputId": "aee6234f-c664-4055-c03e-0cb6bfe0c948"
      },
      "execution_count": 50,
      "outputs": [
        {
          "output_type": "execute_result",
          "data": {
            "text/plain": [
              "['a', 'b', 'c']"
            ]
          },
          "metadata": {},
          "execution_count": 50
        }
      ]
    },
    {
      "cell_type": "code",
      "source": [
        "lista_sortida[3][-1]"
      ],
      "metadata": {
        "colab": {
          "base_uri": "https://localhost:8080/",
          "height": 36
        },
        "id": "RGOIVEeweeeI",
        "outputId": "7252c76e-f333-4ae8-9ff9-2f856f638a12"
      },
      "execution_count": 52,
      "outputs": [
        {
          "output_type": "execute_result",
          "data": {
            "text/plain": [
              "'c'"
            ],
            "application/vnd.google.colaboratory.intrinsic+json": {
              "type": "string"
            }
          },
          "metadata": {},
          "execution_count": 52
        }
      ]
    },
    {
      "cell_type": "code",
      "source": [
        "lista_sortida[3],[-1]"
      ],
      "metadata": {
        "colab": {
          "base_uri": "https://localhost:8080/"
        },
        "id": "P9AaLPd2duex",
        "outputId": "23452454-b21f-46e7-d13c-df6635fe5c32"
      },
      "execution_count": 51,
      "outputs": [
        {
          "output_type": "execute_result",
          "data": {
            "text/plain": [
              "(['a', 'b', 'c'], [-1])"
            ]
          },
          "metadata": {},
          "execution_count": 51
        }
      ]
    },
    {
      "cell_type": "code",
      "source": [
        "listaA= [1,2,3]\n",
        "listaB = [\"A\",\"B\",listaA,\"C\",\"D\",\"E\"]\n"
      ],
      "metadata": {
        "id": "vjh5ELWUfxle"
      },
      "execution_count": 55,
      "outputs": []
    },
    {
      "cell_type": "code",
      "source": [
        "listaB"
      ],
      "metadata": {
        "colab": {
          "base_uri": "https://localhost:8080/"
        },
        "id": "WzHmssL1gE2w",
        "outputId": "a654dbde-27a8-4c53-99d4-096dd66cbda7"
      },
      "execution_count": 56,
      "outputs": [
        {
          "output_type": "execute_result",
          "data": {
            "text/plain": [
              "['A', 'B', [1, 2, 3], 'C', 'D', 'E']"
            ]
          },
          "metadata": {},
          "execution_count": 56
        }
      ]
    },
    {
      "cell_type": "code",
      "source": [
        "#Alterar a listaA\n",
        "listaA.append(4)\n",
        "listaA"
      ],
      "metadata": {
        "colab": {
          "base_uri": "https://localhost:8080/"
        },
        "id": "pK0FcFSEgPkf",
        "outputId": "87f4d81f-9eb1-4caa-9add-ea718d42a529"
      },
      "execution_count": 57,
      "outputs": [
        {
          "output_type": "execute_result",
          "data": {
            "text/plain": [
              "[1, 2, 3, 4]"
            ]
          },
          "metadata": {},
          "execution_count": 57
        }
      ]
    },
    {
      "cell_type": "code",
      "source": [
        "listaB"
      ],
      "metadata": {
        "colab": {
          "base_uri": "https://localhost:8080/"
        },
        "id": "FqvJEvN8gbdP",
        "outputId": "673e4e61-4743-44e6-bfb0-085c2d15d9fd"
      },
      "execution_count": 58,
      "outputs": [
        {
          "output_type": "execute_result",
          "data": {
            "text/plain": [
              "['A', 'B', [1, 2, 3, 4], 'C', 'D', 'E']"
            ]
          },
          "metadata": {},
          "execution_count": 58
        }
      ]
    },
    {
      "cell_type": "code",
      "source": [
        "minha_lista = [\"A\", \"D\", \"J\", \"X\", 1, 9, 7, \"Z\", \"E\",\"J\"]\n",
        "minha_lista_str = []\n",
        "\n",
        "for i in minha_lista:\n",
        "    minha_lista_str.append(str(i))\n",
        "\n",
        "# Exibindo o maior valor após o loop\n",
        "print(max(minha_lista_str))\n"
      ],
      "metadata": {
        "colab": {
          "base_uri": "https://localhost:8080/"
        },
        "id": "OdZYaqMrg2FP",
        "outputId": "ab1bedce-2f4c-49d5-fe28-f279cf864ffc"
      },
      "execution_count": 65,
      "outputs": [
        {
          "output_type": "stream",
          "name": "stdout",
          "text": [
            "Z\n"
          ]
        }
      ]
    },
    {
      "cell_type": "code",
      "source": [
        "minha_lista.count(\"J\")"
      ],
      "metadata": {
        "colab": {
          "base_uri": "https://localhost:8080/"
        },
        "id": "CQiU1poykyP0",
        "outputId": "b0860362-81c8-4c20-cc04-28081480cc67"
      },
      "execution_count": 67,
      "outputs": [
        {
          "output_type": "execute_result",
          "data": {
            "text/plain": [
              "2"
            ]
          },
          "metadata": {},
          "execution_count": 67
        }
      ]
    },
    {
      "cell_type": "code",
      "source": [
        "minha_lista.reverse()"
      ],
      "metadata": {
        "id": "qi89lhbck3xb"
      },
      "execution_count": 69,
      "outputs": []
    },
    {
      "cell_type": "code",
      "source": [
        "minha_lista"
      ],
      "metadata": {
        "colab": {
          "base_uri": "https://localhost:8080/"
        },
        "id": "v23ENL3HlLtP",
        "outputId": "ad83e6c9-18fe-4e69-8e0e-752e56d225ff"
      },
      "execution_count": 70,
      "outputs": [
        {
          "output_type": "execute_result",
          "data": {
            "text/plain": [
              "['J', 'E', 'Z', 7, 9, 1, 'X', 'J', 'D', 'A']"
            ]
          },
          "metadata": {},
          "execution_count": 70
        }
      ]
    },
    {
      "cell_type": "code",
      "source": [
        "# Filtro de lista\n",
        "minha_lista = [\"A\", \"D\", \"J\", \"X\", 1, 9, 7, \"Z\", \"E\"]\n",
        "for x in minha_lista:\n",
        "    if str(x) >= \"J\":\n",
        "        print(x)\n"
      ],
      "metadata": {
        "colab": {
          "base_uri": "https://localhost:8080/"
        },
        "id": "KoO35K4RlTZF",
        "outputId": "093b16a1-8c8d-43d2-fe7c-0c8468b1c1a4"
      },
      "execution_count": 75,
      "outputs": [
        {
          "output_type": "stream",
          "name": "stdout",
          "text": [
            "J\n",
            "X\n",
            "Z\n"
          ]
        }
      ]
    },
    {
      "cell_type": "code",
      "source": [
        "# Filtro de lista Composto\n",
        "minha_lista = [\"A\", \"D\", \"J\", \"X\", 1, 9, 7, \"Z\", \"E\"]\n",
        "for x in minha_lista:\n",
        "    if str(x) >= \"J\" and x <= \"X\":\n",
        "        print(x)"
      ],
      "metadata": {
        "colab": {
          "base_uri": "https://localhost:8080/"
        },
        "id": "jxDFq15mmLEN",
        "outputId": "9abf1702-73c7-4c1b-d882-3e1dd1d5be93"
      },
      "execution_count": 76,
      "outputs": [
        {
          "output_type": "stream",
          "name": "stdout",
          "text": [
            "J\n",
            "X\n"
          ]
        }
      ]
    },
    {
      "cell_type": "markdown",
      "source": [
        "**Tupla**\n",
        "\n",
        "Tupla: Uma vez criada, ela permanece a mesma. Você pode acessar os elementos, mas não modificá-los."
      ],
      "metadata": {
        "id": "v457MyV2nUvK"
      }
    },
    {
      "cell_type": "code",
      "source": [
        "nome = 'Elaine'\n",
        "nome = tuple(nome)\n",
        "nome"
      ],
      "metadata": {
        "colab": {
          "base_uri": "https://localhost:8080/"
        },
        "id": "VVPH6-jCnXLG",
        "outputId": "a7d99742-9d3d-49d4-ec7e-7337113c7d18"
      },
      "execution_count": 77,
      "outputs": [
        {
          "output_type": "execute_result",
          "data": {
            "text/plain": [
              "('E', 'l', 'a', 'i', 'n', 'e')"
            ]
          },
          "metadata": {},
          "execution_count": 77
        }
      ]
    },
    {
      "cell_type": "code",
      "source": [
        "nome[:3]"
      ],
      "metadata": {
        "colab": {
          "base_uri": "https://localhost:8080/"
        },
        "id": "vJaOc1t0nci2",
        "outputId": "cc395ba7-78be-469a-b059-e49047aafeeb"
      },
      "execution_count": 78,
      "outputs": [
        {
          "output_type": "execute_result",
          "data": {
            "text/plain": [
              "('E', 'l', 'a')"
            ]
          },
          "metadata": {},
          "execution_count": 78
        }
      ]
    },
    {
      "cell_type": "code",
      "source": [
        "minha_tupla = (1, 2, 3, \"a\", \"b\", \"c\")\n",
        "print(minha_tupla)\n"
      ],
      "metadata": {
        "colab": {
          "base_uri": "https://localhost:8080/"
        },
        "id": "zSEsCWTnnpMX",
        "outputId": "9e28edc8-2a77-444f-d4db-2ef6275a4adc"
      },
      "execution_count": 79,
      "outputs": [
        {
          "output_type": "stream",
          "name": "stdout",
          "text": [
            "(1, 2, 3, 'a', 'b', 'c')\n"
          ]
        }
      ]
    },
    {
      "cell_type": "code",
      "source": [],
      "metadata": {
        "id": "bnN8L2J5n7E2"
      },
      "execution_count": null,
      "outputs": []
    },
    {
      "cell_type": "markdown",
      "source": [
        "Range\n"
      ],
      "metadata": {
        "id": "O3HL49Hkpdv_"
      }
    },
    {
      "cell_type": "code",
      "source": [
        "meu_range = list(range(0, 11))\n",
        "print(meu_range)\n"
      ],
      "metadata": {
        "colab": {
          "base_uri": "https://localhost:8080/",
          "height": 158
        },
        "id": "8f1DA9sZphnk",
        "outputId": "0464b174-18aa-40cb-f805-f1e36fbf0389"
      },
      "execution_count": 86,
      "outputs": [
        {
          "output_type": "error",
          "ename": "TypeError",
          "evalue": "'list' object is not callable",
          "traceback": [
            "\u001b[0;31m---------------------------------------------------------------------------\u001b[0m",
            "\u001b[0;31mTypeError\u001b[0m                                 Traceback (most recent call last)",
            "\u001b[0;32m<ipython-input-86-ad1f645290bd>\u001b[0m in \u001b[0;36m<cell line: 1>\u001b[0;34m()\u001b[0m\n\u001b[0;32m----> 1\u001b[0;31m \u001b[0mmeu_range\u001b[0m \u001b[0;34m=\u001b[0m \u001b[0mlist\u001b[0m\u001b[0;34m(\u001b[0m\u001b[0mrange\u001b[0m\u001b[0;34m(\u001b[0m\u001b[0;36m0\u001b[0m\u001b[0;34m,\u001b[0m \u001b[0;36m11\u001b[0m\u001b[0;34m)\u001b[0m\u001b[0;34m)\u001b[0m\u001b[0;34m\u001b[0m\u001b[0;34m\u001b[0m\u001b[0m\n\u001b[0m\u001b[1;32m      2\u001b[0m \u001b[0mprint\u001b[0m\u001b[0;34m(\u001b[0m\u001b[0mmeu_range\u001b[0m\u001b[0;34m)\u001b[0m\u001b[0;34m\u001b[0m\u001b[0;34m\u001b[0m\u001b[0m\n",
            "\u001b[0;31mTypeError\u001b[0m: 'list' object is not callable"
          ]
        }
      ]
    }
  ]
}